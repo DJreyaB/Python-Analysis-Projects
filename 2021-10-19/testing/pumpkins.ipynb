{
 "cells": [
  {
   "cell_type": "code",
   "execution_count": 1,
   "metadata": {},
   "outputs": [],
   "source": [
    "# import libraries\n",
    "import pandas as pd\n",
    "import numpy as np\n"
   ]
  },
  {
   "cell_type": "code",
   "execution_count": 8,
   "metadata": {},
   "outputs": [
    {
     "data": {
      "text/html": [
       "<div>\n",
       "<style scoped>\n",
       "    .dataframe tbody tr th:only-of-type {\n",
       "        vertical-align: middle;\n",
       "    }\n",
       "\n",
       "    .dataframe tbody tr th {\n",
       "        vertical-align: top;\n",
       "    }\n",
       "\n",
       "    .dataframe thead th {\n",
       "        text-align: right;\n",
       "    }\n",
       "</style>\n",
       "<table border=\"1\" class=\"dataframe\">\n",
       "  <thead>\n",
       "    <tr style=\"text-align: right;\">\n",
       "      <th></th>\n",
       "      <th>id</th>\n",
       "      <th>place</th>\n",
       "      <th>weight_lbs</th>\n",
       "      <th>grower_name</th>\n",
       "      <th>city</th>\n",
       "      <th>state_prov</th>\n",
       "      <th>country</th>\n",
       "      <th>gpc_site</th>\n",
       "      <th>seed_mother</th>\n",
       "      <th>pollinator_father</th>\n",
       "      <th>ott</th>\n",
       "      <th>est_weight</th>\n",
       "      <th>pct_chart</th>\n",
       "      <th>variety</th>\n",
       "    </tr>\n",
       "  </thead>\n",
       "  <tbody>\n",
       "    <tr>\n",
       "      <th>0</th>\n",
       "      <td>2013-F</td>\n",
       "      <td>1</td>\n",
       "      <td>154.50</td>\n",
       "      <td>Ellenbecker, Todd &amp; Sequoia</td>\n",
       "      <td>Gleason</td>\n",
       "      <td>Wisconsin</td>\n",
       "      <td>United States</td>\n",
       "      <td>Nekoosa Giant Pumpkin Fest</td>\n",
       "      <td>209 Werner</td>\n",
       "      <td>Self</td>\n",
       "      <td>184.0</td>\n",
       "      <td>129.00</td>\n",
       "      <td>20.0</td>\n",
       "      <td>NaN</td>\n",
       "    </tr>\n",
       "    <tr>\n",
       "      <th>1</th>\n",
       "      <td>2013-F</td>\n",
       "      <td>2</td>\n",
       "      <td>146.50</td>\n",
       "      <td>Razo, Steve</td>\n",
       "      <td>New Middletown</td>\n",
       "      <td>Ohio</td>\n",
       "      <td>United States</td>\n",
       "      <td>Ohio Valley Giant Pumpkin Growers Weigh-off</td>\n",
       "      <td>150.5 Snyder</td>\n",
       "      <td>NaN</td>\n",
       "      <td>194.0</td>\n",
       "      <td>151.00</td>\n",
       "      <td>-3.0</td>\n",
       "      <td>NaN</td>\n",
       "    </tr>\n",
       "    <tr>\n",
       "      <th>2</th>\n",
       "      <td>2013-F</td>\n",
       "      <td>3</td>\n",
       "      <td>145.00</td>\n",
       "      <td>Ellenbecker, Todd &amp; Sequoia</td>\n",
       "      <td>Glenson</td>\n",
       "      <td>Wisconsin</td>\n",
       "      <td>United States</td>\n",
       "      <td>Mishicot Pumpkin Fest</td>\n",
       "      <td>209 Werner</td>\n",
       "      <td>103 Mackinnon</td>\n",
       "      <td>177.0</td>\n",
       "      <td>115.00</td>\n",
       "      <td>26.0</td>\n",
       "      <td>NaN</td>\n",
       "    </tr>\n",
       "    <tr>\n",
       "      <th>3</th>\n",
       "      <td>2013-F</td>\n",
       "      <td>4</td>\n",
       "      <td>140.80</td>\n",
       "      <td>Martin, Margaret &amp; Glen</td>\n",
       "      <td>Combined Locks</td>\n",
       "      <td>Wisconsin</td>\n",
       "      <td>United States</td>\n",
       "      <td>Cedarburg Wine and Harvest Festival</td>\n",
       "      <td>109 Martin '12</td>\n",
       "      <td>209 Werner '12</td>\n",
       "      <td>194.0</td>\n",
       "      <td>151.00</td>\n",
       "      <td>-7.0</td>\n",
       "      <td>NaN</td>\n",
       "    </tr>\n",
       "    <tr>\n",
       "      <th>4</th>\n",
       "      <td>2013-F</td>\n",
       "      <td>5</td>\n",
       "      <td>139.00</td>\n",
       "      <td>Barlow, John</td>\n",
       "      <td>NaN</td>\n",
       "      <td>Wisconsin</td>\n",
       "      <td>United States</td>\n",
       "      <td>Stillwater Harvestfest</td>\n",
       "      <td>130.5 McKinnon</td>\n",
       "      <td>open</td>\n",
       "      <td>0.0</td>\n",
       "      <td>0.00</td>\n",
       "      <td>0.0</td>\n",
       "      <td>NaN</td>\n",
       "    </tr>\n",
       "  </tbody>\n",
       "</table>\n",
       "</div>"
      ],
      "text/plain": [
       "       id place weight_lbs                  grower_name            city  \\\n",
       "0  2013-F     1     154.50  Ellenbecker, Todd & Sequoia         Gleason   \n",
       "1  2013-F     2     146.50                  Razo, Steve  New Middletown   \n",
       "2  2013-F     3     145.00  Ellenbecker, Todd & Sequoia         Glenson   \n",
       "3  2013-F     4     140.80      Martin, Margaret & Glen  Combined Locks   \n",
       "4  2013-F     5     139.00                 Barlow, John             NaN   \n",
       "\n",
       "  state_prov        country                                     gpc_site  \\\n",
       "0  Wisconsin  United States                   Nekoosa Giant Pumpkin Fest   \n",
       "1       Ohio  United States  Ohio Valley Giant Pumpkin Growers Weigh-off   \n",
       "2  Wisconsin  United States                        Mishicot Pumpkin Fest   \n",
       "3  Wisconsin  United States          Cedarburg Wine and Harvest Festival   \n",
       "4  Wisconsin  United States                       Stillwater Harvestfest   \n",
       "\n",
       "      seed_mother pollinator_father    ott est_weight pct_chart variety  \n",
       "0      209 Werner              Self  184.0     129.00      20.0     NaN  \n",
       "1    150.5 Snyder               NaN  194.0     151.00      -3.0     NaN  \n",
       "2      209 Werner     103 Mackinnon  177.0     115.00      26.0     NaN  \n",
       "3  109 Martin '12    209 Werner '12  194.0     151.00      -7.0     NaN  \n",
       "4  130.5 McKinnon              open    0.0       0.00       0.0     NaN  "
      ]
     },
     "execution_count": 8,
     "metadata": {},
     "output_type": "execute_result"
    }
   ],
   "source": [
    "pumpkin_df = pd.read_csv('..\\data\\\\unclean_pumpkins.csv')\n",
    "pumpkin_df.head()"
   ]
  },
  {
   "cell_type": "code",
   "execution_count": 9,
   "metadata": {},
   "outputs": [
    {
     "name": "stdout",
     "output_type": "stream",
     "text": [
      "<class 'pandas.core.frame.DataFrame'>\n",
      "RangeIndex: 28065 entries, 0 to 28064\n",
      "Data columns (total 14 columns):\n",
      " #   Column             Non-Null Count  Dtype \n",
      "---  ------             --------------  ----- \n",
      " 0   id                 28065 non-null  object\n",
      " 1   place              28065 non-null  object\n",
      " 2   weight_lbs         28065 non-null  object\n",
      " 3   grower_name        28065 non-null  object\n",
      " 4   city               25286 non-null  object\n",
      " 5   state_prov         28065 non-null  object\n",
      " 6   country            28065 non-null  object\n",
      " 7   gpc_site           28065 non-null  object\n",
      " 8   seed_mother        19522 non-null  object\n",
      " 9   pollinator_father  17758 non-null  object\n",
      " 10  ott                24899 non-null  object\n",
      " 11  est_weight         24899 non-null  object\n",
      " 12  pct_chart          24899 non-null  object\n",
      " 13  variety            724 non-null    object\n",
      "dtypes: object(14)\n",
      "memory usage: 3.0+ MB\n"
     ]
    }
   ],
   "source": [
    "pumpkin_df.info()"
   ]
  },
  {
   "cell_type": "markdown",
   "metadata": {},
   "source": [
    "## Data Cleaning\n",
    "- eliminate variety column, more than 90% of column is missing\n",
    "- items in pollinator father column that say self should be set to contents of seed mother column for that row \n",
    "- Remove all grower's with first value as a symbol\n",
    "- reorgaize names, have a first name and a last name column\n",
    "    - separate the last name by the comma\n",
    "- seperate id column into 2 with year holding the year and field type being decided based on the string to the right of '-' corresponding to Types: F = \"Field Pumpkin\", P = \"Giant Pumpkin\", S = \"Giant Squash\", W = \"Giant Watermelon\", L = \"Long Gourd\" (length in inches, not weight in pounds), T = Tomato\n",
    "\n",
    "## Initial Explorative Questions\n",
    "- How many duplicates are there?\n",
    "- Did asexual pollinating pumpkins produce more winners than not\n",
    "- Is there a combination of pollinators and seeds that produces bigger/better pumpkins?\n",
    "- Are id's unique? What are they based on?\n",
    "- Does each column keep consistent data type?\n",
    "- Why are all columns objects?\n",
    "- Are all of the \"Growers\" Before \"Aasman\" valid? There are some with just commas or entry counters\n",
    "- is each line a separate entry making some rows okay to be duplicated?\n",
    "\n",
    "## Initial visualization Ideas\n",
    "### Descriptive\n",
    "- pumpkin size by city \n",
    "- pumpkin frequency from city & state\n",
    "- \n",
    "\n"
   ]
  },
  {
   "cell_type": "markdown",
   "metadata": {},
   "source": [
    "# Data Cleaning"
   ]
  },
  {
   "cell_type": "code",
   "execution_count": 11,
   "metadata": {},
   "outputs": [],
   "source": [
    "clean_pumpkin_df = pumpkin_df.copy()\n"
   ]
  },
  {
   "cell_type": "code",
   "execution_count": 17,
   "metadata": {},
   "outputs": [
    {
     "data": {
      "text/plain": [
       "0        2013\n",
       "1        2013\n",
       "2        2013\n",
       "3        2013\n",
       "4        2013\n",
       "         ... \n",
       "28060    2021\n",
       "28061    2021\n",
       "28062    2021\n",
       "28063    2021\n",
       "28064    2021\n",
       "Name: year, Length: 28065, dtype: object"
      ]
     },
     "execution_count": 17,
     "metadata": {},
     "output_type": "execute_result"
    }
   ],
   "source": [
    "clean_pumpkin_df[['year', 'type']] = clean_pumpkin_df['id'].str.split('-', expand = True)\n",
    "clean_pumpkin_df['year']"
   ]
  },
  {
   "cell_type": "code",
   "execution_count": 20,
   "metadata": {},
   "outputs": [
    {
     "data": {
      "text/plain": [
       "P    0.568858\n",
       "T    0.112810\n",
       "F    0.098201\n",
       "W    0.090041\n",
       "L    0.070016\n",
       "S    0.060075\n",
       "Name: type, dtype: float64"
      ]
     },
     "execution_count": 20,
     "metadata": {},
     "output_type": "execute_result"
    }
   ],
   "source": [
    "types = {\n",
    "    'F ': \"Field Pumpkin\", \n",
    "    'P' : \"Giant Pumpkin\", \n",
    "    'S' : \"Giant Squash\", \n",
    "    'W' : \"Giant Watermelon\", \n",
    "    'L' : \"Long Gourd\" , \n",
    "    'T' : 'Tomato'\n",
    "}\n",
    "clean_pumpkin_df['type'].value_counts(normalize = True)"
   ]
  },
  {
   "cell_type": "code",
   "execution_count": 21,
   "metadata": {},
   "outputs": [
    {
     "data": {
      "text/plain": [
       "Giant Pumpkin       0.630803\n",
       "Tomato              0.125094\n",
       "Giant Watermelon    0.099846\n",
       "Long Gourd          0.077640\n",
       "Giant Squash        0.066617\n",
       "Name: type, dtype: float64"
      ]
     },
     "execution_count": 21,
     "metadata": {},
     "output_type": "execute_result"
    }
   ],
   "source": [
    "clean_pumpkin_df['type'] = clean_pumpkin_df['type'].map(types)\n",
    "clean_pumpkin_df['type'].value_counts(normalize= True)"
   ]
  },
  {
   "cell_type": "markdown",
   "metadata": {},
   "source": []
  }
 ],
 "metadata": {
  "interpreter": {
   "hash": "e8db37370f79ca51db60d6a3ee5b4ff4287ab6b891d66f4bf3de12aff7cd5cf0"
  },
  "kernelspec": {
   "display_name": "Python 3.9.7 64-bit (windows store)",
   "language": "python",
   "name": "python3"
  },
  "language_info": {
   "codemirror_mode": {
    "name": "ipython",
    "version": 3
   },
   "file_extension": ".py",
   "mimetype": "text/x-python",
   "name": "python",
   "nbconvert_exporter": "python",
   "pygments_lexer": "ipython3",
   "version": "3.9.7"
  },
  "orig_nbformat": 4
 },
 "nbformat": 4,
 "nbformat_minor": 2
}
